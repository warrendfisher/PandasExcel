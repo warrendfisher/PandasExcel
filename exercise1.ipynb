{
 "cells": [
  {
   "cell_type": "code",
   "execution_count": 1,
   "metadata": {},
   "outputs": [
    {
     "output_type": "stream",
     "name": "stdout",
     "text": "Product  Sales       Date           City\n0   Bananas    121 2019-06-13        Atlanta\n1   Bananas    236 2019-10-20        Atlanta\n2    Apples    981 2019-03-12        Atlanta\n3     Bread    996 2019-07-28  New York City\n4  Brocolli    790 2019-10-22  New York City\n"
    }
   ],
   "source": [
    "import pandas as pd \n",
    "sales = pd.read_excel('pythonexcel.xlsx',sheet_name = 'sales')\n",
    "states = pd.read_excel('pythonexcel.xlsx',sheet_name = 'states')\n",
    "print(sales.head())"
   ]
  },
  {
   "cell_type": "code",
   "execution_count": 2,
   "metadata": {},
   "outputs": [],
   "source": [
    "sales['MoreThan500'] = ['Yes' if x > 500 else 'No' for x in sales['Sales']]\n"
   ]
  },
  {
   "cell_type": "code",
   "execution_count": 3,
   "metadata": {},
   "outputs": [
    {
     "output_type": "stream",
     "name": "stdout",
     "text": "Product  Sales       Date           City MoreThan500\n0        Bananas    121 2019-06-13        Atlanta          No\n1        Bananas    236 2019-10-20        Atlanta          No\n2         Apples    981 2019-03-12        Atlanta         Yes\n3          Bread    996 2019-07-28  New York City         Yes\n4       Brocolli    790 2019-10-22  New York City         Yes\n5         Apples    762 2019-11-03        Toronto         Yes\n6        Bananas    870 2019-11-18  New York City         Yes\n7        Bananas    852 2019-03-21        Atlanta         Yes\n8         Apples    427 2019-05-11        Toronto          No\n9          Bread    576 2019-09-14        Atlanta         Yes\n10       Bananas    472 2019-04-06  New York City          No\n11       Oranges    864 2019-06-02        Atlanta         Yes\n12  Strawberries    923 2019-03-30        Toronto         Yes\n13      Brocolli    925 2019-06-09       Portland         Yes\n14       Bananas    281 2019-04-23       Portland          No\n15         Bread    809 2019-10-20       Portland         Yes\n16       Bananas    916 2019-12-08        Toronto         Yes\n17      Brocolli    705 2019-01-17  New York City         Yes\n18       Bananas    710 2019-10-14  New York City         Yes\n19  Strawberries    486 2019-03-16        Atlanta          No\n20      Brocolli    791 2019-01-02        Atlanta         Yes\n21  Strawberries    784 2019-04-02       Portland         Yes\n22       Oranges    148 2019-08-10        Atlanta          No\n23  Strawberries    126 2019-02-18        Atlanta          No\n24         Bread    192 2019-02-07  New York City          No\n25        Apples    574 2019-03-02  New York City         Yes\n26       Oranges    113 2019-03-23        Toronto          No\n27        Apples    733 2019-12-13        Toronto         Yes\n28         Bread    587 2019-09-28  New York City         Yes\n29      Brocolli    867 2019-03-29        Atlanta         Yes\n30       Bananas    447 2019-04-25        Atlanta          No\n31         Bread    694 2019-09-09  New York City         Yes\n32  Strawberries    420 2019-03-18       Portland          No\n33       Bananas    695 2019-12-02        Toronto         Yes\n34      Brocolli    447 2019-06-20        Atlanta          No\n35       Oranges    839 2019-04-06       Portland         Yes\n36      Brocolli    672 2019-05-06        Toronto         Yes\n37         Bread    984 2019-05-04        Toronto         Yes\n38  Strawberries    849 2019-09-24        Toronto         Yes\n39         Bread    224 2019-11-19        Atlanta          No\n40        Apples    566 2019-06-01        Toronto         Yes\n41        Apples    127 2019-02-26        Atlanta          No\n42       Oranges    173 2019-01-10       Portland          No\n43      Brocolli    512 2019-11-15  New York City         Yes\n44         Bread    783 2019-05-23        Toronto         Yes\n45        Apples    489 2019-10-12        Toronto          No\n46         Bread    904 2019-10-28  New York City         Yes\n47       Bananas    243 2019-08-12  New York City          No\n48  Strawberries    349 2019-04-23        Atlanta          No\n49      Brocolli    659 2019-06-26        Toronto         Yes\n"
    }
   ],
   "source": [
    "print(sales)"
   ]
  },
  {
   "cell_type": "code",
   "execution_count": 4,
   "metadata": {},
   "outputs": [
    {
     "output_type": "stream",
     "name": "stdout",
     "text": "Product  Sales       Date           City MoreThan500     State\n0   Bananas    121 2019-06-13        Atlanta          No   Georgia\n1   Bananas    236 2019-10-20        Atlanta          No   Georgia\n2    Apples    981 2019-03-12        Atlanta         Yes   Georgia\n3     Bread    996 2019-07-28  New York City         Yes  New York\n4  Brocolli    790 2019-10-22  New York City         Yes  New York\n"
    }
   ],
   "source": [
    "sales = pd.merge(sales, states, how='left', on='City')\n",
    "print(sales.head())"
   ]
  },
  {
   "cell_type": "code",
   "execution_count": 5,
   "metadata": {},
   "outputs": [
    {
     "output_type": "stream",
     "name": "stdout",
     "text": "City     State\n0        Atlanta   Georgia\n1  New York City  New York\n2        Toronto   Ontario\n3       Portland    Oregon\n"
    }
   ],
   "source": [
    "print(states.head())"
   ]
  },
  {
   "cell_type": "code",
   "execution_count": 6,
   "metadata": {},
   "outputs": [
    {
     "output_type": "execute_result",
     "data": {
      "text/plain": "               Sales\nCity                \nAtlanta         7642\nNew York City   8249\nPortland        4231\nToronto         9571",
      "text/html": "<div>\n<style scoped>\n    .dataframe tbody tr th:only-of-type {\n        vertical-align: middle;\n    }\n\n    .dataframe tbody tr th {\n        vertical-align: top;\n    }\n\n    .dataframe thead th {\n        text-align: right;\n    }\n</style>\n<table border=\"1\" class=\"dataframe\">\n  <thead>\n    <tr style=\"text-align: right;\">\n      <th></th>\n      <th>Sales</th>\n    </tr>\n    <tr>\n      <th>City</th>\n      <th></th>\n    </tr>\n  </thead>\n  <tbody>\n    <tr>\n      <th>Atlanta</th>\n      <td>7642</td>\n    </tr>\n    <tr>\n      <th>New York City</th>\n      <td>8249</td>\n    </tr>\n    <tr>\n      <th>Portland</th>\n      <td>4231</td>\n    </tr>\n    <tr>\n      <th>Toronto</th>\n      <td>9571</td>\n    </tr>\n  </tbody>\n</table>\n</div>"
     },
     "metadata": {},
     "execution_count": 6
    }
   ],
   "source": [
    "sales.pivot_table(index = 'City', values = 'Sales', aggfunc='sum')"
   ]
  },
  {
   "cell_type": "code",
   "execution_count": null,
   "metadata": {},
   "outputs": [],
   "source": []
  }
 ],
 "metadata": {
  "language_info": {
   "codemirror_mode": {
    "name": "ipython",
    "version": 3
   },
   "file_extension": ".py",
   "mimetype": "text/x-python",
   "name": "python",
   "nbconvert_exporter": "python",
   "pygments_lexer": "ipython3",
   "version": "3.7.6-final"
  },
  "orig_nbformat": 2,
  "kernelspec": {
   "name": "python3",
   "display_name": "Python 3"
  }
 },
 "nbformat": 4,
 "nbformat_minor": 2
}